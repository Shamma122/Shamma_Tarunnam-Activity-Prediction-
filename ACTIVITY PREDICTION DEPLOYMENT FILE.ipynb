{
 "cells": [
  {
   "cell_type": "code",
   "execution_count": null,
   "id": "5ab09c46-fc72-4dc2-9fe8-200604f10936",
   "metadata": {},
   "outputs": [],
   "source": [
    "%%writefile app.py\n",
    "\n",
    "import streamlit as st\n",
    "import numpy as np\n",
    "import pandas as pd\n",
    "import joblib\n",
    "\n",
    "with open('final_model.joblib', 'rb') as file:\n",
    "    model = joblib.load(file)\n",
    "\n",
    "def prediction(inp_list):\n",
    "    pred = model.predict([inp_list])[0]\n",
    "    if pred == 0:\n",
    "        return 'Sitting on bed'\n",
    "    elif pred == 1:\n",
    "        return 'Sitting on chair'\n",
    "    elif pred == 2:\n",
    "        return 'Lying on bed'\n",
    "    else:\n",
    "        return 'Ambulating'\n",
    "\n",
    "def main():\n",
    "    st.title('ACTIVITY PREDICTION FROM SENSOR DATA')\n",
    "    st.subheader('This application will predict the ongoing activity based on sensor data provided. Fill the respective fields for prediction.')\n",
    "    st.image('sensors.png')  # Ensure image.webp is in the same directory\n",
    "\n",
    "    rfid = st.selectbox('Enter the RFID configuration settings', ['Config 1 (4 Sensors)', 'Config 2 (3 Sensors)'])\n",
    "    rfid_e = 3 if rfid == 'Config 2 (3 Sensors)' else 4\n",
    "\n",
    "    ant_ID = st.selectbox('Select the Antenna ID', [1, 2, 3, 4])\n",
    "    rssi = st.number_input('Enter the received signal strength indicator (RSSI)', value=-60.0, step=1.0)\n",
    "    accv = st.number_input('Enter the vertical acceleration data from sensor', value=0.5, step=0.1)\n",
    "    accf = st.number_input('Enter the frontal acceleration data from sensor', value=0.5, step=0.1)\n",
    "    accl = st.number_input('Enter the lateral acceleration data from sensor', value=0.5, step=0.1)\n",
    "\n",
    "    inp_data = [float(accf), float(accv), float(accl), int(ant_ID), float(rssi), int(rfid_e)]\n",
    "\n",
    "    if st.button('Predict'):\n",
    "        response = prediction(inp_data)\n",
    "        st.success(response)\n",
    "\n",
    "if __name__ == '__main__':\n",
    "    main()"
   ]
  }
 ],
 "metadata": {
  "kernelspec": {
   "display_name": "Python 3 (ipykernel)",
   "language": "python",
   "name": "python3"
  },
  "language_info": {
   "codemirror_mode": {
    "name": "ipython",
    "version": 3
   },
   "file_extension": ".py",
   "mimetype": "text/x-python",
   "name": "python",
   "nbconvert_exporter": "python",
   "pygments_lexer": "ipython3",
   "version": "3.12.7"
  }
 },
 "nbformat": 4,
 "nbformat_minor": 5
}
